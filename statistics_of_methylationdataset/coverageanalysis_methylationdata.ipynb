{
 "cells": [
  {
   "cell_type": "code",
   "execution_count": 1,
   "id": "840b9b4a",
   "metadata": {},
   "outputs": [],
   "source": [
    "# load the libraries \n",
    "import pandas as pd\n",
    "import matplotlib.pyplot as plt"
   ]
  },
  {
   "cell_type": "code",
   "execution_count": 2,
   "id": "0ac6398b",
   "metadata": {},
   "outputs": [],
   "source": [
    "# Load the dataset into a pandas DataFrame\n",
    "df = pd.read_csv('Downloads/PupilBioTest_PMP_revA.csv')"
   ]
  },
  {
   "cell_type": "code",
   "execution_count": 7,
   "id": "3875cf58",
   "metadata": {},
   "outputs": [
    {
     "name": "stdout",
     "output_type": "stream",
     "text": [
      "  strand    CpG_Coordinates  `000  `001  `010  `011  `100  `101  `110  `111  \\\n",
      "0      r  10035:10044:10046  1077     9     0     0     0     0     0     4   \n",
      "1      r  10035:10044:10053  1086     0     0     0     0     0     0     4   \n",
      "2      r  10035:10044:10058  1069    17     0     0     0     0     0     4   \n",
      "3      r  10035:10044:10071  1072    14     0     0     0     0     0     4   \n",
      "4      r  10035:10044:10075  1086     0     0     0     0     0     0     4   \n",
      "\n",
      "   Sample_ID Replicate Tissue  \n",
      "0          1      Rep2  cfDNA  \n",
      "1          1      Rep2  cfDNA  \n",
      "2          1      Rep2  cfDNA  \n",
      "3          1      Rep2  cfDNA  \n",
      "4          1      Rep2  cfDNA  \n",
      "         strand   CpG_Coordinates  `000  `001  `010  `011  `100  `101  `110  \\\n",
      "15392178      f  9998:10121:10133    76     0     0     0     0     0     0   \n",
      "15392179      f  9998:10121:10140    47     0     0     0     0     0     0   \n",
      "15392180      f  9998:10130:10133    76     0     0     0     0     0     0   \n",
      "15392181      f  9998:10130:10140    47     0     0     0     0     0     0   \n",
      "15392182      f  9998:10133:10140    47     0     0     0     0     0     0   \n",
      "\n",
      "          `111  Sample_ID Replicate Tissue  \n",
      "15392178     0         80      Rep1  Islet  \n",
      "15392179     0         80      Rep1  Islet  \n",
      "15392180     0         80      Rep1  Islet  \n",
      "15392181     0         80      Rep1  Islet  \n",
      "15392182     0         80      Rep1  Islet  \n",
      "               `000          `001          `010          `011          `100  \\\n",
      "count  1.539218e+07  1.539218e+07  1.539218e+07  1.539218e+07  1.539218e+07   \n",
      "mean   7.083582e+02  1.414708e+01  1.245036e+01  7.659293e+00  1.425672e+01   \n",
      "std    1.125340e+03  4.775481e+01  4.061583e+01  4.865285e+01  4.521087e+01   \n",
      "min    0.000000e+00  0.000000e+00  0.000000e+00  0.000000e+00  0.000000e+00   \n",
      "25%    4.300000e+01  0.000000e+00  0.000000e+00  0.000000e+00  0.000000e+00   \n",
      "50%    2.230000e+02  0.000000e+00  0.000000e+00  0.000000e+00  0.000000e+00   \n",
      "75%    8.800000e+02  7.000000e+00  6.000000e+00  0.000000e+00  7.000000e+00   \n",
      "max    1.441200e+04  2.850000e+03  3.624000e+03  5.062000e+03  3.462000e+03   \n",
      "\n",
      "               `101          `110          `111     Sample_ID  \n",
      "count  1.539218e+07  1.539218e+07  1.539218e+07  1.539218e+07  \n",
      "mean   4.636786e+00  7.082439e+00  3.164089e+01  3.426508e+01  \n",
      "std    3.279861e+01  4.638435e+01  1.951181e+02  2.156053e+01  \n",
      "min    0.000000e+00  0.000000e+00  0.000000e+00  1.000000e+00  \n",
      "25%    0.000000e+00  0.000000e+00  0.000000e+00  1.600000e+01  \n",
      "50%    0.000000e+00  0.000000e+00  0.000000e+00  3.200000e+01  \n",
      "75%    0.000000e+00  0.000000e+00  2.000000e+00  4.800000e+01  \n",
      "max    5.978000e+03  5.316000e+03  8.788000e+03  8.000000e+01  \n"
     ]
    }
   ],
   "source": [
    "# data visulization\n",
    "print(df.head())\n",
    "print(df.tail())\n",
    "print(df.describe())"
   ]
  },
  {
   "cell_type": "code",
   "execution_count": 11,
   "id": "25799ac8",
   "metadata": {},
   "outputs": [
    {
     "name": "stdout",
     "output_type": "stream",
     "text": [
      "0           1090\n",
      "1           1090\n",
      "2           1090\n",
      "3           1090\n",
      "4           1090\n",
      "            ... \n",
      "15392178      76\n",
      "15392179      47\n",
      "15392180      76\n",
      "15392181      47\n",
      "15392182      47\n",
      "Name: Coverage, Length: 15392183, dtype: int64\n"
     ]
    }
   ],
   "source": [
    "# Assuming single CpG coverage is the sum of counts across all methylation states\n",
    "#extract the coverage \n",
    "df['Coverage'] = df.iloc[:, 2:10].sum(axis=1)\n",
    "print(df['Coverage'])"
   ]
  },
  {
   "cell_type": "code",
   "execution_count": 16,
   "id": "2760e79a",
   "metadata": {},
   "outputs": [
    {
     "name": "stdout",
     "output_type": "stream",
     "text": [
      "        median          std         mean          CV\n",
      "Tissue                                              \n",
      "Islet     84.0   167.470211   147.359490  113.647387\n",
      "cfDNA    484.0  1338.977645  1013.508239  132.113149\n"
     ]
    }
   ],
   "source": [
    "# Calculate median and CV for each tissue\n",
    "stats = df.groupby('Tissue')['Coverage'].agg(['median', 'std', 'mean'])\n",
    "stats['CV'] = tissue_stats['std'] / tissue_stats['mean'] * 100\n",
    "print(tissue_stats)"
   ]
  },
  {
   "cell_type": "code",
   "execution_count": 29,
   "id": "271febbc",
   "metadata": {},
   "outputs": [
    {
     "data": {
      "image/png": "[encoded data removed]",
      "text/plain": [
       "<Figure size 1296x432 with 3 Axes>"
      ]
     },
     "metadata": {
      "needs_background": "light"
     },
     "output_type": "display_data"
    }
   ],
   "source": [
    "# Plot statistics\n",
    "fig, axes = plt.subplots(1, 3, figsize=(18, 6), sharey=False)\n",
    "\n",
    "# Bar plot for mean coverage\n",
    "axes[0].bar(stats.index, stats['mean'], color=['green', 'purple'], alpha=0.8)\n",
    "axes[0].set_title('Mean Coverage by Tissue', fontsize=14)\n",
    "axes[0].set_ylabel('Mean Coverage', fontsize=12)\n",
    "axes[0].set_xlabel('Tissue', fontsize=12)\n",
    "\n",
    "# Bar plot for median coverage\n",
    "axes[1].bar(stats.index, stats['median'], color=['green', 'purple'], alpha=0.8)\n",
    "axes[1].set_title('Median Coverage by Tissue', fontsize=14)\n",
    "axes[1].set_ylabel('Median Coverage', fontsize=12)\n",
    "axes[1].set_xlabel('Tissue', fontsize=12)\n",
    "\n",
    "# Bar plot for coefficient of variation (CV)\n",
    "axes[2].bar(stats.index, stats['CV'], color=['green', 'purple'], alpha=0.8)\n",
    "axes[2].set_title('Coefficient of Variation (CV) by Tissue', fontsize=14)\n",
    "axes[2].set_ylabel('CV (%)', fontsize=12)\n",
    "axes[2].set_xlabel('Tissue', fontsize=12)\n",
    "\n",
    "# Adjust layout\n",
    "plt.tight_layout()\n",
    "plt.show()"
   ]
  },
  {
   "cell_type": "code",
   "execution_count": null,
   "id": "52c5bb0d",
   "metadata": {},
   "outputs": [],
   "source": []
  }
 ],
 "metadata": {
  "kernelspec": {
   "display_name": "Python 3",
   "language": "python",
   "name": "python3"
  },
  "language_info": {
   "codemirror_mode": {
    "name": "ipython",
    "version": 3
   },
   "file_extension": ".py",
   "mimetype": "text/x-python",
   "name": "python",
   "nbconvert_exporter": "python",
   "pygments_lexer": "ipython3",
   "version": "3.8.8"
  }
 },
 "nbformat": 4,
 "nbformat_minor": 5
}
